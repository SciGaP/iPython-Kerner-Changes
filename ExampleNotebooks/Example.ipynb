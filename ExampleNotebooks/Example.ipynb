{
 "cells": [
  {
   "cell_type": "code",
   "execution_count": 2,
   "metadata": {},
   "outputs": [],
   "source": [
    "%load_ext StateCaptureMagic"
   ]
  },
  {
   "cell_type": "code",
   "execution_count": 3,
   "metadata": {},
   "outputs": [
    {
     "name": "stdout",
     "output_type": "stream",
     "text": [
      "Successfully loaded run time context from /opt/ARCHIVE/context.p\n"
     ]
    }
   ],
   "source": [
    "%load_local_context"
   ]
  },
  {
   "cell_type": "code",
   "execution_count": 1,
   "metadata": {},
   "outputs": [],
   "source": [
    "f = open(\"/tmp/a.txt\", \"w\")"
   ]
  },
  {
   "cell_type": "code",
   "execution_count": 14,
   "metadata": {},
   "outputs": [
    {
     "name": "stdout",
     "output_type": "stream",
     "text": [
      "Requirement already satisfied: numpy in /usr/local/lib/python3.8/dist-packages (1.22.2)\r\n"
     ]
    }
   ],
   "source": [
    "! pip install numpy"
   ]
  },
  {
   "cell_type": "code",
   "execution_count": 15,
   "metadata": {},
   "outputs": [],
   "source": [
    "import numpy as np"
   ]
  },
  {
   "cell_type": "code",
   "execution_count": 16,
   "metadata": {},
   "outputs": [],
   "source": [
    "p = np.array([2,3])"
   ]
  },
  {
   "cell_type": "code",
   "execution_count": 4,
   "metadata": {},
   "outputs": [
    {
     "data": {
      "text/plain": [
       "array([2, 3])"
      ]
     },
     "execution_count": 4,
     "metadata": {},
     "output_type": "execute_result"
    }
   ],
   "source": [
    "p"
   ]
  },
  {
   "cell_type": "code",
   "execution_count": 18,
   "metadata": {},
   "outputs": [
    {
     "name": "stdout",
     "output_type": "stream",
     "text": [
      "99 1340.0925935257997\n",
      "199 893.0087771768999\n",
      "299 596.2390596505411\n",
      "399 399.19605741575856\n",
      "499 268.332406206503\n",
      "599 181.39619012799727\n",
      "699 123.62469968645335\n",
      "799 85.22168044902436\n",
      "899 59.68500716640266\n",
      "999 42.69791694417887\n",
      "1099 31.39375576415242\n",
      "1199 23.868319227040057\n",
      "1299 18.85634558595087\n",
      "1399 15.516859200514933\n",
      "1499 13.290706963012\n",
      "1599 11.805984917089452\n",
      "1699 10.815240245488004\n",
      "1799 10.153761131311368\n",
      "1899 9.711865047357698\n",
      "1999 9.416481769573624\n",
      "Result: y = -0.011466828381459914 + 0.8354001094946149 x + 0.0019782187046497174 x^2 + -0.090294855525705 x^3\n"
     ]
    }
   ],
   "source": [
    "import numpy as np\n",
    "import math\n",
    "\n",
    "# Create random input and output data\n",
    "x = np.linspace(-math.pi, math.pi, 2000)\n",
    "y = np.sin(x)\n",
    "\n",
    "# Randomly initialize weights\n",
    "a = np.random.randn()\n",
    "b = np.random.randn()\n",
    "c = np.random.randn()\n",
    "d = np.random.randn()\n",
    "\n",
    "learning_rate = 1e-6\n",
    "for t in range(2000):\n",
    "    # Forward pass: compute predicted y\n",
    "    # y = a + b x + c x^2 + d x^3\n",
    "    y_pred = a + b * x + c * x ** 2 + d * x ** 3\n",
    "\n",
    "    # Compute and print loss\n",
    "    loss = np.square(y_pred - y).sum()\n",
    "    if t % 100 == 99:\n",
    "        print(t, loss)\n",
    "\n",
    "    # Backprop to compute gradients of a, b, c, d with respect to loss\n",
    "    grad_y_pred = 2.0 * (y_pred - y)\n",
    "    grad_a = grad_y_pred.sum()\n",
    "    grad_b = (grad_y_pred * x).sum()\n",
    "    grad_c = (grad_y_pred * x ** 2).sum()\n",
    "    grad_d = (grad_y_pred * x ** 3).sum()\n",
    "\n",
    "    # Update weights\n",
    "    a -= learning_rate * grad_a\n",
    "    b -= learning_rate * grad_b\n",
    "    c -= learning_rate * grad_c\n",
    "    d -= learning_rate * grad_d\n",
    "\n",
    "print(f'Result: y = {a} + {b} x + {c} x^2 + {d} x^3')"
   ]
  },
  {
   "cell_type": "code",
   "execution_count": 24,
   "metadata": {},
   "outputs": [
    {
     "name": "stdout",
     "output_type": "stream",
     "text": [
      "Collecting torch\n",
      "  Downloading torch-1.10.2-cp38-cp38-manylinux1_x86_64.whl (881.9 MB)\n",
      "\u001b[K     |████████████████████████████████| 881.9 MB 7.0 MB/s eta 0:00:014  |▏                               | 5.9 MB 2.7 MB/s eta 0:05:30     |▎                               | 6.5 MB 2.7 MB/s eta 0:05:30     |█▏                              | 31.0 MB 7.1 MB/s eta 0:02:00     |█▏                              | 31.6 MB 7.1 MB/s eta 0:02:00     |█▎                              | 35.2 MB 278 kB/s eta 0:50:42     |██▍                             | 67.2 MB 5.4 MB/s eta 0:02:31     |███▏                            | 88.4 MB 6.3 MB/s eta 0:02:07     |████▎                           | 116.8 MB 6.3 MB/s eta 0:02:02     |████▍                           | 119.5 MB 5.8 MB/s eta 0:02:12     |████▍                           | 120.1 MB 5.8 MB/s eta 0:02:12     |████▍                           | 120.5 MB 5.8 MB/s eta 0:02:12     |█████▌                          | 150.6 MB 6.3 MB/s eta 0:01:56     |█████▌                          | 152.3 MB 6.2 MB/s eta 0:01:58     |█████▋                          | 153.3 MB 6.2 MB/s eta 0:01:58     |█████▉                          | 159.5 MB 7.1 MB/s eta 0:01:43     |██████                          | 166.3 MB 6.3 MB/s eta 0:01:55     |██████▏                         | 170.4 MB 6.3 MB/s eta 0:01:54     |██████▋                         | 180.8 MB 6.2 MB/s eta 0:01:53     |██████▋                         | 181.2 MB 6.2 MB/s eta 0:01:53     |██████▊                         | 183.9 MB 6.2 MB/s eta 0:01:53     |██████▉                         | 189.4 MB 6.0 MB/s eta 0:01:55     |███████                         | 190.8 MB 6.9 MB/s eta 0:01:41     |███████                         | 192.5 MB 6.9 MB/s eta 0:01:41     |███████                         | 194.7 MB 6.9 MB/s eta 0:01:40     |███████▎                        | 201.2 MB 6.5 MB/s eta 0:01:46     |███████▎                        | 201.8 MB 6.5 MB/s eta 0:01:45     |████████                        | 222.0 MB 6.1 MB/s eta 0:01:49     |█████████▏                      | 252.3 MB 6.2 MB/s eta 0:01:42     |█████████▋                      | 265.6 MB 5.6 MB/s eta 0:01:50     |████████████                    | 329.1 MB 6.8 MB/s eta 0:01:21     |█████████████▌                  | 373.2 MB 4.6 MB/s eta 0:01:51     |█████████████▊                  | 378.5 MB 4.6 MB/s eta 0:01:49     |██████████████▌                 | 398.8 MB 270 kB/s eta 0:29:49     |███████████████▌                | 428.6 MB 6.1 MB/s eta 0:01:14     |███████████████▊                | 432.3 MB 6.1 MB/s eta 0:01:14     |██████████████████▊             | 517.1 MB 5.8 MB/s eta 0:01:03     |█████████████████████           | 581.6 MB 6.4 MB/s eta 0:00:47     |███████████████████████         | 631.9 MB 5.9 MB/s eta 0:00:43     |███████████████████████▊        | 653.4 MB 6.5 MB/s eta 0:00:35     |█████████████████████████▋      | 705.8 MB 5.7 MB/s eta 0:00:31     |█████████████████████████▉      | 711.8 MB 7.0 MB/s eta 0:00:25     |██████████████████████████      | 713.9 MB 7.0 MB/s eta 0:00:24     |███████████████████████████▏    | 748.2 MB 7.2 MB/s eta 0:00:19     |███████████████████████████▉    | 766.4 MB 5.6 MB/s eta 0:00:21     |█████████████████████████████▌  | 811.8 MB 6.1 MB/s eta 0:00:12     |██████████████████████████████▏ | 830.4 MB 6.3 MB/s eta 0:00:09     |██████████████████████████████▏ | 831.1 MB 6.3 MB/s eta 0:00:09     |███████████████████████████████ | 852.5 MB 3.8 MB/s eta 0:00:08\n",
      "\u001b[?25hRequirement already satisfied: typing-extensions in /usr/local/lib/python3.8/dist-packages (from torch) (4.0.1)\n",
      "Installing collected packages: torch\n",
      "Successfully installed torch-1.10.2\n"
     ]
    }
   ],
   "source": [
    "! pip --no-cache-dir install torch"
   ]
  },
  {
   "cell_type": "code",
   "execution_count": 25,
   "metadata": {},
   "outputs": [],
   "source": [
    "import torch"
   ]
  },
  {
   "cell_type": "code",
   "execution_count": 26,
   "metadata": {},
   "outputs": [],
   "source": [
    "import math"
   ]
  },
  {
   "cell_type": "code",
   "execution_count": 28,
   "metadata": {},
   "outputs": [
    {
     "name": "stdout",
     "output_type": "stream",
     "text": [
      "99 33.34066390991211\n",
      "199 26.019927978515625\n",
      "299 20.891027450561523\n",
      "399 17.295337677001953\n",
      "499 14.773175239562988\n",
      "599 13.00312328338623\n",
      "699 11.760313034057617\n",
      "799 10.887273788452148\n",
      "899 10.273748397827148\n",
      "999 9.842408180236816\n",
      "1099 9.539039611816406\n",
      "1199 9.325593948364258\n",
      "1299 9.175363540649414\n",
      "1399 9.069591522216797\n",
      "1499 8.995098114013672\n",
      "1599 8.942620277404785\n",
      "1699 8.9056396484375\n",
      "1799 8.879573822021484\n",
      "1899 8.861196517944336\n",
      "1999 8.848236083984375\n",
      "Result: y = -0.00577953876927495 + 0.8556513786315918 x + 0.0009970651008188725 x^2 + -0.09317541867494583 x^3\n"
     ]
    }
   ],
   "source": [
    "dtype = torch.float\n",
    "device = torch.device(\"cpu\")\n",
    "# device = torch.device(\"cuda:0\") # Uncomment this to run on GPU\n",
    "\n",
    "# Create random input and output data\n",
    "x = torch.linspace(-math.pi, math.pi, 2000, device=device, dtype=dtype)\n",
    "y = torch.sin(x)\n",
    "\n",
    "# Randomly initialize weights\n",
    "a = torch.randn((), device=device, dtype=dtype)\n",
    "b = torch.randn((), device=device, dtype=dtype)\n",
    "c = torch.randn((), device=device, dtype=dtype)\n",
    "d = torch.randn((), device=device, dtype=dtype)\n",
    "\n",
    "learning_rate = 1e-6\n",
    "for t in range(2000):\n",
    "    # Forward pass: compute predicted y\n",
    "    y_pred = a + b * x + c * x ** 2 + d * x ** 3\n",
    "\n",
    "    # Compute and print loss\n",
    "    loss = (y_pred - y).pow(2).sum().item()\n",
    "    if t % 100 == 99:\n",
    "        print(t, loss)\n",
    "\n",
    "    # Backprop to compute gradients of a, b, c, d with respect to loss\n",
    "    grad_y_pred = 2.0 * (y_pred - y)\n",
    "    grad_a = grad_y_pred.sum()\n",
    "    grad_b = (grad_y_pred * x).sum()\n",
    "    grad_c = (grad_y_pred * x ** 2).sum()\n",
    "    grad_d = (grad_y_pred * x ** 3).sum()\n",
    "\n",
    "    # Update weights using gradient descent\n",
    "    a -= learning_rate * grad_a\n",
    "    b -= learning_rate * grad_b\n",
    "    c -= learning_rate * grad_c\n",
    "    d -= learning_rate * grad_d\n",
    "\n",
    "\n",
    "print(f'Result: y = {a.item()} + {b.item()} x + {c.item()} x^2 + {d.item()} x^3')"
   ]
  },
  {
   "cell_type": "code",
   "execution_count": 29,
   "metadata": {},
   "outputs": [
    {
     "name": "stdout",
     "output_type": "stream",
     "text": [
      "Collecting torchvision\n",
      "  Downloading torchvision-0.11.3-cp38-cp38-manylinux1_x86_64.whl (23.2 MB)\n",
      "\u001b[K     |████████████████████████████████| 23.2 MB 6.1 MB/s eta 0:00:01     |████████████████████████▍       | 17.7 MB 6.2 MB/s eta 0:00:01\n",
      "\u001b[?25hRequirement already satisfied: torch==1.10.2 in /usr/local/lib/python3.8/dist-packages (from torchvision) (1.10.2)\n",
      "Requirement already satisfied: numpy in /usr/local/lib/python3.8/dist-packages (from torchvision) (1.22.2)\n",
      "Collecting pillow!=8.3.0,>=5.3.0\n",
      "  Downloading Pillow-9.0.1-cp38-cp38-manylinux_2_17_x86_64.manylinux2014_x86_64.whl (4.3 MB)\n",
      "\u001b[K     |████████████████████████████████| 4.3 MB 7.7 MB/s eta 0:00:01     |███████▍                        | 993 kB 7.7 MB/s eta 0:00:01\n",
      "\u001b[?25hRequirement already satisfied: typing-extensions in /usr/local/lib/python3.8/dist-packages (from torch==1.10.2->torchvision) (4.0.1)\n",
      "Installing collected packages: pillow, torchvision\n",
      "Successfully installed pillow-9.0.1 torchvision-0.11.3\n"
     ]
    }
   ],
   "source": [
    "! pip --no-cache-dir install torchvision"
   ]
  },
  {
   "cell_type": "code",
   "execution_count": 30,
   "metadata": {},
   "outputs": [],
   "source": [
    "import torchvision"
   ]
  },
  {
   "cell_type": "code",
   "execution_count": 31,
   "metadata": {},
   "outputs": [
    {
     "data": {
      "text/plain": [
       "<torch._C.Generator at 0x7fec726ce9f0>"
      ]
     },
     "execution_count": 31,
     "metadata": {},
     "output_type": "execute_result"
    }
   ],
   "source": [
    "n_epochs = 3\n",
    "batch_size_train = 64\n",
    "batch_size_test = 1000\n",
    "learning_rate = 0.01\n",
    "momentum = 0.5\n",
    "log_interval = 10\n",
    "\n",
    "random_seed = 1\n",
    "torch.backends.cudnn.enabled = False\n",
    "torch.manual_seed(random_seed)"
   ]
  },
  {
   "cell_type": "code",
   "execution_count": 32,
   "metadata": {},
   "outputs": [
    {
     "name": "stdout",
     "output_type": "stream",
     "text": [
      "Downloading http://yann.lecun.com/exdb/mnist/train-images-idx3-ubyte.gz\n",
      "Downloading http://yann.lecun.com/exdb/mnist/train-images-idx3-ubyte.gz to files/MNIST/raw/train-images-idx3-ubyte.gz\n"
     ]
    },
    {
     "name": "stderr",
     "output_type": "stream",
     "text": [
      "100.0%\n"
     ]
    },
    {
     "name": "stdout",
     "output_type": "stream",
     "text": [
      "Extracting files/MNIST/raw/train-images-idx3-ubyte.gz to files/MNIST/raw\n",
      "\n",
      "Downloading http://yann.lecun.com/exdb/mnist/train-labels-idx1-ubyte.gz\n",
      "Downloading http://yann.lecun.com/exdb/mnist/train-labels-idx1-ubyte.gz to files/MNIST/raw/train-labels-idx1-ubyte.gz\n"
     ]
    },
    {
     "name": "stderr",
     "output_type": "stream",
     "text": [
      "102.8%\n"
     ]
    },
    {
     "name": "stdout",
     "output_type": "stream",
     "text": [
      "Extracting files/MNIST/raw/train-labels-idx1-ubyte.gz to files/MNIST/raw\n",
      "\n",
      "Downloading http://yann.lecun.com/exdb/mnist/t10k-images-idx3-ubyte.gz\n",
      "Downloading http://yann.lecun.com/exdb/mnist/t10k-images-idx3-ubyte.gz to files/MNIST/raw/t10k-images-idx3-ubyte.gz\n"
     ]
    },
    {
     "name": "stderr",
     "output_type": "stream",
     "text": [
      "100.0%\n"
     ]
    },
    {
     "name": "stdout",
     "output_type": "stream",
     "text": [
      "Extracting files/MNIST/raw/t10k-images-idx3-ubyte.gz to files/MNIST/raw\n"
     ]
    },
    {
     "name": "stderr",
     "output_type": "stream",
     "text": [
      "22.5%"
     ]
    },
    {
     "name": "stdout",
     "output_type": "stream",
     "text": [
      "\n",
      "Downloading http://yann.lecun.com/exdb/mnist/t10k-labels-idx1-ubyte.gz\n",
      "Downloading http://yann.lecun.com/exdb/mnist/t10k-labels-idx1-ubyte.gz to files/MNIST/raw/t10k-labels-idx1-ubyte.gz\n"
     ]
    },
    {
     "name": "stderr",
     "output_type": "stream",
     "text": [
      "112.7%\n"
     ]
    },
    {
     "name": "stdout",
     "output_type": "stream",
     "text": [
      "Extracting files/MNIST/raw/t10k-labels-idx1-ubyte.gz to files/MNIST/raw\n",
      "\n"
     ]
    }
   ],
   "source": [
    "train_loader = torch.utils.data.DataLoader(\n",
    "  torchvision.datasets.MNIST('files/', train=True, download=True,\n",
    "                             transform=torchvision.transforms.Compose([\n",
    "                               torchvision.transforms.ToTensor(),\n",
    "                               torchvision.transforms.Normalize(\n",
    "                                 (0.1307,), (0.3081,))\n",
    "                             ])),\n",
    "  batch_size=batch_size_train, shuffle=True)\n",
    "\n",
    "test_loader = torch.utils.data.DataLoader(\n",
    "  torchvision.datasets.MNIST('files/', train=False, download=True,\n",
    "                             transform=torchvision.transforms.Compose([\n",
    "                               torchvision.transforms.ToTensor(),\n",
    "                               torchvision.transforms.Normalize(\n",
    "                                 (0.1307,), (0.3081,))\n",
    "                             ])),\n",
    "  batch_size=batch_size_test, shuffle=True)"
   ]
  },
  {
   "cell_type": "code",
   "execution_count": 33,
   "metadata": {},
   "outputs": [],
   "source": [
    "examples = enumerate(test_loader)\n",
    "batch_idx, (example_data, example_targets) = next(examples)"
   ]
  },
  {
   "cell_type": "code",
   "execution_count": 34,
   "metadata": {},
   "outputs": [
    {
     "name": "stdout",
     "output_type": "stream",
     "text": [
      "Collecting matplotlib\n",
      "  Downloading matplotlib-3.5.1-cp38-cp38-manylinux_2_5_x86_64.manylinux1_x86_64.whl (11.3 MB)\n",
      "\u001b[K     |████████████████████████████████| 11.3 MB 7.2 MB/s eta 0:00:01\n",
      "\u001b[?25hRequirement already satisfied: numpy>=1.17 in /usr/local/lib/python3.8/dist-packages (from matplotlib) (1.22.2)\n",
      "Requirement already satisfied: pyparsing>=2.2.1 in /usr/local/lib/python3.8/dist-packages (from matplotlib) (3.0.7)\n",
      "Collecting cycler>=0.10\n",
      "  Downloading cycler-0.11.0-py3-none-any.whl (6.4 kB)\n",
      "Collecting fonttools>=4.22.0\n",
      "  Downloading fonttools-4.29.1-py3-none-any.whl (895 kB)\n",
      "\u001b[K     |████████████████████████████████| 895 kB 7.1 MB/s eta 0:00:01\n",
      "\u001b[?25hRequirement already satisfied: pillow>=6.2.0 in /usr/local/lib/python3.8/dist-packages (from matplotlib) (9.0.1)\n",
      "Collecting kiwisolver>=1.0.1\n",
      "  Downloading kiwisolver-1.3.2-cp38-cp38-manylinux_2_5_x86_64.manylinux1_x86_64.whl (1.2 MB)\n",
      "\u001b[K     |████████████████████████████████| 1.2 MB 7.3 MB/s eta 0:00:01\n",
      "\u001b[?25hRequirement already satisfied: packaging>=20.0 in /usr/local/lib/python3.8/dist-packages (from matplotlib) (21.3)\n",
      "Requirement already satisfied: python-dateutil>=2.7 in /usr/local/lib/python3.8/dist-packages (from matplotlib) (2.8.2)\n",
      "Requirement already satisfied: six>=1.5 in /usr/local/lib/python3.8/dist-packages (from python-dateutil>=2.7->matplotlib) (1.16.0)\n",
      "Installing collected packages: cycler, fonttools, kiwisolver, matplotlib\n",
      "Successfully installed cycler-0.11.0 fonttools-4.29.1 kiwisolver-1.3.2 matplotlib-3.5.1\n"
     ]
    }
   ],
   "source": [
    "! pip install matplotlib"
   ]
  },
  {
   "cell_type": "code",
   "execution_count": 35,
   "metadata": {},
   "outputs": [],
   "source": [
    "import matplotlib.pyplot as plt"
   ]
  },
  {
   "cell_type": "code",
   "execution_count": 5,
   "metadata": {},
   "outputs": [
    {
     "data": {
      "image/png": "[encoded data removed]",
      "text/plain": [
       "<Figure size 432x288 with 6 Axes>"
      ]
     },
     "execution_count": 5,
     "metadata": {},
     "output_type": "execute_result"
    },
    {
     "data": {
      "image/png": "[encoded data removed]",
      "text/plain": [
       "<Figure size 432x288 with 6 Axes>"
      ]
     },
     "metadata": {},
     "output_type": "display_data"
    }
   ],
   "source": [
    "fig = plt.figure()\n",
    "for i in range(6):\n",
    "    plt.subplot(2,3,i+1)\n",
    "    plt.tight_layout()\n",
    "    plt.imshow(example_data[i][0], cmap='gray', interpolation='none')\n",
    "    plt.title(\"Groumatplotlibnd Truth: {}\".format(example_targets[i]))\n",
    "    plt.xticks([])\n",
    "    plt.yticks([])\n",
    "fig"
   ]
  },
  {
   "cell_type": "code",
   "execution_count": 38,
   "metadata": {},
   "outputs": [
    {
     "data": {
      "text/plain": [
       "{'accessed_files': ['files/MNIST/raw/train-labels-idx1-ubyte',\n",
       "  'files/MNIST/raw/t10k-labels-idx1-ubyte.gz',\n",
       "  'files/MNIST/raw/t10k-images-idx3-ubyte',\n",
       "  'files/MNIST/raw/train-images-idx3-ubyte',\n",
       "  'files/MNIST/raw/t10k-labels-idx1-ubyte',\n",
       "  'files/MNIST/raw/train-images-idx3-ubyte.gz',\n",
       "  'files/MNIST/raw/t10k-images-idx3-ubyte.gz',\n",
       "  '/tmp/a.txt',\n",
       "  'files/MNIST/raw/train-labels-idx1-ubyte.gz'],\n",
       " 'dependencies': {'numpy': '1.22.2',\n",
       "  'torch': '1.10.2',\n",
       "  'torchvision': '0.11.3',\n",
       "  'matplotlib': '3.5.1'}}"
      ]
     },
     "execution_count": 38,
     "metadata": {},
     "output_type": "execute_result"
    }
   ],
   "source": [
    "%export_states createArchive=True, uploadServer=http://host.docker.internal:8080, archiveName=Your Archive Name "
   ]
  }
 ],
 "metadata": {
  "kernelspec": {
   "display_name": "Python 3 (ipykernel)",
   "language": "python",
   "name": "python3"
  },
  "language_info": {
   "codemirror_mode": {
    "name": "ipython",
    "version": 3
   },
   "file_extension": ".py",
   "mimetype": "text/x-python",
   "name": "python",
   "nbconvert_exporter": "python",
   "pygments_lexer": "ipython3",
   "version": "3.8.10"
  }
 },
 "nbformat": 4,
 "nbformat_minor": 4
}
